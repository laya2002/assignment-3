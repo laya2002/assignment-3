{
  "nbformat": 4,
  "nbformat_minor": 0,
  "metadata": {
    "colab": {
      "name": "assignment 3.ipynb",
      "provenance": [],
      "collapsed_sections": [],
      "authorship_tag": "ABX9TyMyzLsXVupk3SgcNGpjzF5P",
      "include_colab_link": true
    },
    "kernelspec": {
      "name": "python3",
      "display_name": "Python 3"
    }
  },
  "cells": [
    {
      "cell_type": "markdown",
      "metadata": {
        "id": "view-in-github",
        "colab_type": "text"
      },
      "source": [
        "<a href=\"https://colab.research.google.com/github/laya2002/assignment-3/blob/master/assignment_3.ipynb\" target=\"_parent\"><img src=\"https://colab.research.google.com/assets/colab-badge.svg\" alt=\"Open In Colab\"/></a>"
      ]
    },
    {
      "cell_type": "code",
      "metadata": {
        "id": "WzbnCmDIOn82",
        "colab_type": "code",
        "colab": {}
      },
      "source": [
        ""
      ],
      "execution_count": null,
      "outputs": []
    },
    {
      "cell_type": "markdown",
      "metadata": {
        "id": "NZxJdaESOuGM",
        "colab_type": "text"
      },
      "source": [
        "program to take two inputs from user and check they are equal or not"
      ]
    },
    {
      "cell_type": "code",
      "metadata": {
        "id": "xEsZPSazO7n-",
        "colab_type": "code",
        "colab": {
          "base_uri": "https://localhost:8080/",
          "height": 68
        },
        "outputId": "74312583-eb8d-4f23-fd9f-c9e55320e745"
      },
      "source": [
        "n1=int(input())\n",
        "n2=int(input())\n",
        "if n1==n2 :print('numbers are equal')\n",
        "else:print('numbers are not equal')"
      ],
      "execution_count": 2,
      "outputs": [
        {
          "output_type": "stream",
          "text": [
            "2\n",
            "3\n",
            "numbers are not equal\n"
          ],
          "name": "stdout"
        }
      ]
    },
    {
      "cell_type": "markdown",
      "metadata": {
        "id": "zRv-LwYXP6p4",
        "colab_type": "text"
      },
      "source": [
        "program to take three inputs from user and check:\n",
        "1.all are equal \n",
        "2.any of two are equal"
      ]
    },
    {
      "cell_type": "code",
      "metadata": {
        "id": "OMVutyjdQflG",
        "colab_type": "code",
        "colab": {
          "base_uri": "https://localhost:8080/",
          "height": 85
        },
        "outputId": "98bc2544-2b7e-4a29-e22b-0737d5b2bbd3"
      },
      "source": [
        "n1=input()\n",
        "n2=input()\n",
        "n3=input()\n",
        "if n1==n2==n3: print('all are equal')\n",
        "elif n1==n2 or n2==n3 or n1==n3:print('any of two are equal')\n",
        "else:print('none of them are equal')"
      ],
      "execution_count": 12,
      "outputs": [
        {
          "output_type": "stream",
          "text": [
            "Sa\n",
            "Nd\n",
            "Ep\n",
            "none of them are equal\n"
          ],
          "name": "stdout"
        }
      ]
    },
    {
      "cell_type": "markdown",
      "metadata": {
        "id": "xd7Vhht5SxmO",
        "colab_type": "text"
      },
      "source": [
        "program to take two numbers and check whether sum is greater than 5,less than5,equal to 5"
      ]
    },
    {
      "cell_type": "code",
      "metadata": {
        "id": "ZwapQHcxTHpR",
        "colab_type": "code",
        "colab": {
          "base_uri": "https://localhost:8080/",
          "height": 68
        },
        "outputId": "163f5e12-3152-477f-9d87-5227379fc418"
      },
      "source": [
        "n1=int(input())\n",
        "n2=int(input())\n",
        "if n1+n2>5 :print('their sum is greater than 5')\n",
        "elif n1+n2<5:print('their sum is less than 5')\n",
        "else :print('they are equal')"
      ],
      "execution_count": 9,
      "outputs": [
        {
          "output_type": "stream",
          "text": [
            "2\n",
            "5\n",
            "their sum is greater than 5\n"
          ],
          "name": "stdout"
        }
      ]
    },
    {
      "cell_type": "markdown",
      "metadata": {
        "id": "DLzMGaoJUKnF",
        "colab_type": "text"
      },
      "source": [
        "suppose passing marks of a subject is 35.Take input of marks from user and check whether it is greater than passing marks or not"
      ]
    },
    {
      "cell_type": "code",
      "metadata": {
        "id": "QcFf1kmeUnt1",
        "colab_type": "code",
        "colab": {
          "base_uri": "https://localhost:8080/",
          "height": 51
        },
        "outputId": "f1191d95-0122-4d45-c70d-2d7f2f05445f"
      },
      "source": [
        "Mat=int(input('marks'))\n",
        "if Mat >35 :print('greater than pass marks')\n",
        "elif Mat <35:print('less than pass marks')\n",
        "else :print ('equal  marks')"
      ],
      "execution_count": 10,
      "outputs": [
        {
          "output_type": "stream",
          "text": [
            "marks36\n",
            "greater than pass marks\n"
          ],
          "name": "stdout"
        }
      ]
    },
    {
      "cell_type": "markdown",
      "metadata": {
        "id": "dhnkAcsOVdi8",
        "colab_type": "text"
      },
      "source": [
        "write a python function to find max of three numbers "
      ]
    },
    {
      "cell_type": "code",
      "metadata": {
        "id": "GSdGT0P4Vtjm",
        "colab_type": "code",
        "colab": {
          "base_uri": "https://localhost:8080/",
          "height": 85
        },
        "outputId": "52af3829-d7c9-4c6d-a3e9-15f896e90a16"
      },
      "source": [
        "N1=int(input())\n",
        "N2=int(input())\n",
        "N3=int(input())\n",
        "if N1 > N2 and N1 > N3:print('N1 is greater',N1)\n",
        "elif N2>N3:print('N2 is greater',N2)\n",
        "else :print('N3 is greater',N3)"
      ],
      "execution_count": 11,
      "outputs": [
        {
          "output_type": "stream",
          "text": [
            "4\n",
            "5\n",
            "3\n",
            "N2 is greater 5\n"
          ],
          "name": "stdout"
        }
      ]
    }
  ]
}